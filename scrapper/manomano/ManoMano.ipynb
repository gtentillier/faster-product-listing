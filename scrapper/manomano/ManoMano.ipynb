{
 "cells": [
  {
   "cell_type": "code",
   "execution_count": 2,
   "id": "a97d26b4",
   "metadata": {},
   "outputs": [],
   "source": [
    "import requests\n",
    "import re\n",
    "import os \n",
    "import pandas as pd\n",
    "import time\n",
    "import logging"
   ]
  },
  {
   "cell_type": "code",
   "execution_count": 4,
   "id": "13934c51",
   "metadata": {},
   "outputs": [],
   "source": [
    "#Importing data\n",
    "data = pd.read_csv('clipdrop_export.csv')"
   ]
  },
  {
   "cell_type": "code",
   "execution_count": 5,
   "id": "604fdac4",
   "metadata": {},
   "outputs": [],
   "source": [
    "def make_dir(dirName):\n",
    "    flag=True\n",
    "    try:\n",
    "        os.makedirs(dirName)    \n",
    "        #print(\"Directory \" , dirName ,  \"Created \")\n",
    "    except FileExistsError:\n",
    "        print(\"Directory \" , dirName ,  \"already exists\") \n",
    "        flag=False\n",
    "    return flag"
   ]
  },
  {
   "cell_type": "code",
   "execution_count": 6,
   "id": "37b979ad",
   "metadata": {},
   "outputs": [
    {
     "name": "stdout",
     "output_type": "stream",
     "text": [
      "Directory  F:/manomano/ObjectsWiseHD/ already exists\n"
     ]
    },
    {
     "data": {
      "text/plain": [
       "False"
      ]
     },
     "execution_count": 6,
     "metadata": {},
     "output_type": "execute_result"
    }
   ],
   "source": [
    "#Creating Directory for storing the images\n",
    "dname='ObjectsWiseHD/'\n",
    "make_dir(dname)"
   ]
  },
  {
   "cell_type": "code",
   "execution_count": 11,
   "id": "38b5216b",
   "metadata": {},
   "outputs": [],
   "source": [
    "#Setting up mapping b/w ObjectID and Thumbnails URLs\n",
    "mappings = data.to_dict('list')\n",
    "mappings_2 = data.to_dict()\n",
    "download_mappings={}\n",
    "idx=0\n",
    "for i in mappings['objectID']:\n",
    "    download_mappings[i]=mappings_2['thumbnails'][idx]\n",
    "    idx+=1"
   ]
  },
  {
   "cell_type": "code",
   "execution_count": 14,
   "id": "c49218d8",
   "metadata": {},
   "outputs": [
    {
     "name": "stdout",
     "output_type": "stream",
     "text": [
      "Timeout\n",
      "10000\n",
      "11000\n",
      "12000\n",
      "Timeout\n",
      "21000\n",
      "23000\n",
      "Timeout\n",
      "24000\n",
      "Timeout\n",
      "27000\n",
      "28000\n",
      "Timeout\n",
      "32000\n",
      "33000\n",
      "Timeout\n",
      "37000\n",
      "45000\n",
      "Timeout\n",
      "50000\n",
      "58000\n",
      "61000\n",
      "71000\n",
      "73000\n",
      "76000\n",
      "Timeout\n",
      "Timeout\n",
      "83000\n",
      "88000\n",
      "94000\n",
      "Timeout\n",
      "106000\n",
      "Timeout\n",
      "Timeout\n",
      "110000\n",
      "112000\n",
      "114000\n",
      "116000\n",
      "117000\n",
      "124000\n",
      "130000\n",
      "131000\n",
      "140000\n",
      "143000\n"
     ]
    }
   ],
   "source": [
    "#For downloading images from the ManoMano server\n",
    "count=0\n",
    "while True:\n",
    "    try:\n",
    "        keys_to_delete = set([name for name in os.listdir(\".\") if os.path.isdir(name)])\n",
    "        for key, value in download_mappings.items():\n",
    "            if str(key) not in keys_to_delete:\n",
    "                make_dir(dname+str(key))\n",
    "                urls = value.split(',')\n",
    "                img_c=1\n",
    "                for url in urls:\n",
    "                    list_url=url.split('P')\n",
    "                    upd_url=list_url[0]+'L'+list_url[1] #Change 'L' to 'P' if you want to download Low resolution images\n",
    "                    resp_img = requests.get(upd_url)\n",
    "                    img_file = open(dname+str(key)+'/'+str(img_c)+'.jpg', \"wb\")\n",
    "                    img_file.write(resp_img.content)\n",
    "                    img_file.close()\n",
    "                    img_c+=1\n",
    "                    count+=1\n",
    "                keys_to_delete.add(key)\n",
    "                if count % 1000==0:\n",
    "                    print('Images Downloaded:{}'.format(count))\n",
    "                    time.sleep(30)\n",
    "                    \n",
    "        if len(keys_to_delete)==len(mappings_2['articleId']):\n",
    "            break\n",
    "    except:\n",
    "        print('Timeout')\n",
    "        keys_to_delete=set(keys_to_delete)\n",
    "        time.sleep(60)\n",
    "        "
   ]
  }
 ],
 "metadata": {
  "kernelspec": {
   "display_name": "Python 3",
   "language": "python",
   "name": "python3"
  },
  "language_info": {
   "codemirror_mode": {
    "name": "ipython",
    "version": 3
   },
   "file_extension": ".py",
   "mimetype": "text/x-python",
   "name": "python",
   "nbconvert_exporter": "python",
   "pygments_lexer": "ipython3",
   "version": "3.7.10"
  }
 },
 "nbformat": 4,
 "nbformat_minor": 5
}
